{
 "cells": [
  {
   "cell_type": "code",
   "execution_count": 9,
   "id": "a6c88866",
   "metadata": {},
   "outputs": [],
   "source": [
    "import numpy as np\n",
    "from scipy.linalg import eig"
   ]
  },
  {
   "cell_type": "code",
   "execution_count": 10,
   "id": "84aecdd3",
   "metadata": {},
   "outputs": [],
   "source": [
    "def normalize_vector(vector): #Normalize the vector so that the sum of its elements is 1\n",
    "    return vector / vector.sum()"
   ]
  },
  {
   "cell_type": "code",
   "execution_count": 11,
   "id": "5ff8261a",
   "metadata": {},
   "outputs": [],
   "source": [
    "def calculate_eigenvector(matrix): #Calculate the principal eigenvector of a pairwise comparison matrix..\n",
    "    eigenvalues, eigenvectors = eig(matrix)\n",
    "    principal_eigenvector = np.real(eigenvectors[:, np.argmax(np.real(eigenvalues))])\n",
    "    normalized_eigenvector = normalize_vector(principal_eigenvector)\n",
    "    return normalized_eigenvector,eigenvalues"
   ]
  },
  {
   "cell_type": "code",
   "execution_count": 12,
   "id": "b7ba522f",
   "metadata": {},
   "outputs": [],
   "source": [
    "def calculate_consistency_ratio(matrix, random_index): #Calculate the Consistency Ratio (CR) for a pairwise comparison matrix. \n",
    "    n = matrix.shape[0]\n",
    "    print(n)\n",
    "    a,b=calculate_eigenvector(matrix)\n",
    "    max_eigenvalue = np.max(np.real(b))\n",
    "#     max_value_np = np.max(arr)\n",
    "    ci = (max_eigenvalue - n) / (n - 1)\n",
    "    cr = ci / random_index[n]\n",
    "    return cr\n",
    "\n",
    "# Random Index (RI) values as per SAATY\n",
    "random_index = {1: 0.00, 2: 0.00, 3: 0.58, 4: 0.90, 5: 1.12, 6: 1.24, 7: 1.32, 8: 1.41, 9: 1.45, 10: 1.49}"
   ]
  },
  {
   "cell_type": "code",
   "execution_count": 13,
   "id": "e714fd69",
   "metadata": {},
   "outputs": [],
   "source": [
    "def ask_for_parameters():  #Ask the user for the number of parameters and their names\n",
    "    num_parameters = int(input(\"Enter the number of parameters: \"))\n",
    "    parameters = []\n",
    "    for i in range(num_parameters):\n",
    "        param_name = input(f\"Enter the name of parameter {i+1}: \")\n",
    "        parameters.append(param_name)\n",
    "    return parameters"
   ]
  },
  {
   "cell_type": "code",
   "execution_count": 14,
   "id": "c141bae8",
   "metadata": {},
   "outputs": [],
   "source": [
    "def display_importance_scale():\n",
    "    descriptions = {\n",
    "        1: \"Equal importance: Two activities contribute equally to the objective.\",\n",
    "        3: \"Moderate importance: Experience and judgment strongly favor one activity over another.\",\n",
    "        5: \"Essential or strong importance: Experience and judgment strongly favor one activity over another.\",\n",
    "        7: \"Very strong importance: An activity is strongly favored and its dominance demonstrated in practice.\",\n",
    "        9: \"Extreme importance: The evidence favoring one activity over another is of the highest possible order of affirmation.\"\n",
    "    }\n",
    "    \n",
    "    print(\"\\nImportance Scale:\")\n",
    "    for value, description in descriptions.items():\n",
    "        print(f\"{value}: {description}\")\n",
    "    bold_underline = \"\\033[1m\\033[4m\"\n",
    "    reset = \"\\033[0m\"\n",
    "\n",
    "    text = f\"{bold_underline}You can input 2,4,6,8 for intermediates!{reset}\"\n",
    "    print(text)\n",
    "    "
   ]
  },
  {
   "cell_type": "code",
   "execution_count": 15,
   "id": "0fd9cfcb",
   "metadata": {},
   "outputs": [],
   "source": [
    "def ask_for_comparisons(parameters): # Ask the user for pairwise comparisons to fill the matrix.\n",
    "    num_parameters = len(parameters)\n",
    "    comparison_matrix = np.ones((num_parameters, num_parameters))\n",
    "\n",
    "    for i in range(num_parameters):\n",
    "        for j in range(i+1, num_parameters):\n",
    "            while True:\n",
    "                try:\n",
    "                    comparison = float(input(f\"Enter the relative importance (in float) of '{parameters[i]}' compared to '{parameters[j]}' (e.g., 1/3,1/5, 1, 3,5): \"))\n",
    "                    break\n",
    "                except ValueError:\n",
    "                    print(\"Invalid input. Please enter a numeric value.\")\n",
    "            comparison_matrix[i, j] = comparison\n",
    "            comparison_matrix[j, i] = 1 / comparison\n",
    "\n",
    "    return comparison_matrix"
   ]
  },
  {
   "cell_type": "code",
   "execution_count": 16,
   "id": "477f1652",
   "metadata": {},
   "outputs": [
    {
     "name": "stdout",
     "output_type": "stream",
     "text": [
      "Enter the number of parameters: 7\n",
      "Enter the name of parameter 1: ld\n",
      "Enter the name of parameter 2: soil\n",
      "Enter the name of parameter 3: rainfall\n",
      "Enter the name of parameter 4: dd\n",
      "Enter the name of parameter 5: slope\n",
      "Enter the name of parameter 6: geology\n",
      "Enter the name of parameter 7: lulc\n",
      "\n",
      "Importance Scale:\n",
      "1: Equal importance: Two activities contribute equally to the objective.\n",
      "3: Moderate importance: Experience and judgment strongly favor one activity over another.\n",
      "5: Essential or strong importance: Experience and judgment strongly favor one activity over another.\n",
      "7: Very strong importance: An activity is strongly favored and its dominance demonstrated in practice.\n",
      "9: Extreme importance: The evidence favoring one activity over another is of the highest possible order of affirmation.\n",
      "\u001b[1m\u001b[4mYou can input 2,4,6,8 for intermediates!\u001b[0m\n",
      "Enter the relative importance (in float) of 'ld' compared to 'soil' (e.g., 1/3,1/5, 1, 3,5): 1\n",
      "Enter the relative importance (in float) of 'ld' compared to 'rainfall' (e.g., 1/3,1/5, 1, 3,5): 3\n",
      "Enter the relative importance (in float) of 'ld' compared to 'dd' (e.g., 1/3,1/5, 1, 3,5): 5\n",
      "Enter the relative importance (in float) of 'ld' compared to 'slope' (e.g., 1/3,1/5, 1, 3,5): 7\n",
      "Enter the relative importance (in float) of 'ld' compared to 'geology' (e.g., 1/3,1/5, 1, 3,5): 7\n",
      "Enter the relative importance (in float) of 'ld' compared to 'lulc' (e.g., 1/3,1/5, 1, 3,5): 9\n",
      "Enter the relative importance (in float) of 'soil' compared to 'rainfall' (e.g., 1/3,1/5, 1, 3,5): 1\n",
      "Enter the relative importance (in float) of 'soil' compared to 'dd' (e.g., 1/3,1/5, 1, 3,5): 3\n",
      "Enter the relative importance (in float) of 'soil' compared to 'slope' (e.g., 1/3,1/5, 1, 3,5): 5\n",
      "Enter the relative importance (in float) of 'soil' compared to 'geology' (e.g., 1/3,1/5, 1, 3,5): 5\n",
      "Enter the relative importance (in float) of 'soil' compared to 'lulc' (e.g., 1/3,1/5, 1, 3,5): 9\n",
      "Enter the relative importance (in float) of 'rainfall' compared to 'dd' (e.g., 1/3,1/5, 1, 3,5): 3\n",
      "Enter the relative importance (in float) of 'rainfall' compared to 'slope' (e.g., 1/3,1/5, 1, 3,5): 5\n",
      "Enter the relative importance (in float) of 'rainfall' compared to 'geology' (e.g., 1/3,1/5, 1, 3,5): 7\n",
      "Enter the relative importance (in float) of 'rainfall' compared to 'lulc' (e.g., 1/3,1/5, 1, 3,5): 9\n",
      "Enter the relative importance (in float) of 'dd' compared to 'slope' (e.g., 1/3,1/5, 1, 3,5): 3\n",
      "Enter the relative importance (in float) of 'dd' compared to 'geology' (e.g., 1/3,1/5, 1, 3,5): 5\n",
      "Enter the relative importance (in float) of 'dd' compared to 'lulc' (e.g., 1/3,1/5, 1, 3,5): 7\n",
      "Enter the relative importance (in float) of 'slope' compared to 'geology' (e.g., 1/3,1/5, 1, 3,5): 3\n",
      "Enter the relative importance (in float) of 'slope' compared to 'lulc' (e.g., 1/3,1/5, 1, 3,5): 5\n",
      "Enter the relative importance (in float) of 'geology' compared to 'lulc' (e.g., 1/3,1/5, 1, 3,5): 5\n",
      "\n",
      "Pairwise Comparison Matrix:\n",
      "[[1.         1.         3.         5.         7.         7.\n",
      "  9.        ]\n",
      " [1.         1.         1.         3.         5.         5.\n",
      "  9.        ]\n",
      " [0.33333333 1.         1.         3.         5.         7.\n",
      "  9.        ]\n",
      " [0.2        0.33333333 0.33333333 1.         3.         5.\n",
      "  7.        ]\n",
      " [0.14285714 0.2        0.2        0.33333333 1.         3.\n",
      "  5.        ]\n",
      " [0.14285714 0.2        0.14285714 0.2        0.33333333 1.\n",
      "  5.        ]\n",
      " [0.11111111 0.11111111 0.11111111 0.14285714 0.2        0.2\n",
      "  1.        ]]\n",
      "normalize_vector:\n",
      "[[0.00833532 0.00833532 0.02500595 0.04167659 0.05834723 0.05834723\n",
      "  0.07501786]\n",
      " [0.00833532 0.00833532 0.00833532 0.02500595 0.04167659 0.04167659\n",
      "  0.07501786]\n",
      " [0.00277844 0.00833532 0.00833532 0.02500595 0.04167659 0.05834723\n",
      "  0.07501786]\n",
      " [0.00166706 0.00277844 0.00277844 0.00833532 0.02500595 0.04167659\n",
      "  0.05834723]\n",
      " [0.00119076 0.00166706 0.00166706 0.00277844 0.00833532 0.02500595\n",
      "  0.04167659]\n",
      " [0.00119076 0.00166706 0.00119076 0.00166706 0.00277844 0.00833532\n",
      "  0.04167659]\n",
      " [0.00092615 0.00092615 0.00092615 0.00119076 0.00166706 0.00166706\n",
      "  0.00833532]]\n",
      "\n",
      "Normalized Eigenvector (Priority Vector):\n",
      "[0.33834224 0.22956745 0.21012327 0.10731208 0.05752009 0.03881643\n",
      " 0.01831843]\n",
      "7\n",
      "\n",
      "Consistency Ratio (CR):\n",
      "0.08\n",
      "The level of consistency is acceptable.\n"
     ]
    }
   ],
   "source": [
    "parameters = ask_for_parameters()\n",
    "display_importance_scale()\n",
    "comparison_matrix = ask_for_comparisons(parameters)\n",
    "normalizedMat=normalize_vector(comparison_matrix)\n",
    "# Calculate the normalized eigenvector\n",
    "normalized_eigenvector,eigenvalues = calculate_eigenvector(comparison_matrix)\n",
    "\n",
    "print(\"\\nPairwise Comparison Matrix:\")\n",
    "print(comparison_matrix)\n",
    "print(\"normalize_vector:\")\n",
    "print(normalizedMat)\n",
    "print(\"\\nNormalized Eigenvector (Priority Vector):\")\n",
    "print(normalized_eigenvector)\n",
    "\n",
    "# Calculate the Consistency Ratio\n",
    "consistency_ratio = calculate_consistency_ratio(comparison_matrix, random_index)\n",
    "\n",
    "print(\"\\nConsistency Ratio (CR):\")\n",
    "print(round(consistency_ratio,2))\n",
    "\n",
    "if consistency_ratio < 0.1:\n",
    "    print(\"The level of consistency is acceptable.\")\n",
    "else:\n",
    "    print(\"The judgments are inconsistent, please revise the pairwise comparisons.\")\n"
   ]
  },
  {
   "cell_type": "code",
   "execution_count": null,
   "id": "278a0bad",
   "metadata": {},
   "outputs": [],
   "source": []
  },
  {
   "cell_type": "code",
   "execution_count": null,
   "id": "527b7783",
   "metadata": {},
   "outputs": [],
   "source": []
  },
  {
   "cell_type": "code",
   "execution_count": null,
   "id": "bc50eac5",
   "metadata": {},
   "outputs": [],
   "source": []
  },
  {
   "cell_type": "code",
   "execution_count": null,
   "id": "5f9bc78b",
   "metadata": {},
   "outputs": [],
   "source": []
  }
 ],
 "metadata": {
  "kernelspec": {
   "display_name": "Python 3 (ipykernel)",
   "language": "python",
   "name": "python3"
  },
  "language_info": {
   "codemirror_mode": {
    "name": "ipython",
    "version": 3
   },
   "file_extension": ".py",
   "mimetype": "text/x-python",
   "name": "python",
   "nbconvert_exporter": "python",
   "pygments_lexer": "ipython3",
   "version": "3.11.5"
  }
 },
 "nbformat": 4,
 "nbformat_minor": 5
}
